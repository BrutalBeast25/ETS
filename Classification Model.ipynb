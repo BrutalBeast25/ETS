{
 "cells": [
  {
   "cell_type": "code",
   "execution_count": 1,
   "id": "bca45572",
   "metadata": {},
   "outputs": [],
   "source": [
    "import numpy as np\n",
    "import pandas as pd\n",
    "import matplotlib.pyplot as plt\n",
    "import seaborn as sns\n",
    "%matplotlib inline"
   ]
  },
  {
   "cell_type": "code",
   "execution_count": 2,
   "id": "5334793c",
   "metadata": {},
   "outputs": [],
   "source": [
    "data=pd.read_csv('C:/Users/HP/Desktop/Data_Sets/ETS2/ETS_Ready_to_ML.csv')"
   ]
  },
  {
   "cell_type": "code",
   "execution_count": 3,
   "id": "4fd02623",
   "metadata": {},
   "outputs": [
    {
     "name": "stdout",
     "output_type": "stream",
     "text": [
      "(720, 24)\n"
     ]
    },
    {
     "data": {
      "text/html": [
       "<div>\n",
       "<style scoped>\n",
       "    .dataframe tbody tr th:only-of-type {\n",
       "        vertical-align: middle;\n",
       "    }\n",
       "\n",
       "    .dataframe tbody tr th {\n",
       "        vertical-align: top;\n",
       "    }\n",
       "\n",
       "    .dataframe thead th {\n",
       "        text-align: right;\n",
       "    }\n",
       "</style>\n",
       "<table border=\"1\" class=\"dataframe\">\n",
       "  <thead>\n",
       "    <tr style=\"text-align: right;\">\n",
       "      <th></th>\n",
       "      <th>Cargo ID</th>\n",
       "      <th>Cargo Weight</th>\n",
       "      <th>Transport Distance</th>\n",
       "      <th>Hour</th>\n",
       "      <th>Minutes</th>\n",
       "      <th>Ferry?</th>\n",
       "      <th>Ferry Length</th>\n",
       "      <th>Ferry Cost</th>\n",
       "      <th>Origin City ID</th>\n",
       "      <th>Origin Country</th>\n",
       "      <th>...</th>\n",
       "      <th>Transport Type</th>\n",
       "      <th>Trailer Type</th>\n",
       "      <th>High Value Cargo</th>\n",
       "      <th>Heavy Cargo</th>\n",
       "      <th>Fragile Cargo</th>\n",
       "      <th>ADR Cargo</th>\n",
       "      <th>ADR Class &amp; Type</th>\n",
       "      <th>Special Transport</th>\n",
       "      <th>Price Per KM</th>\n",
       "      <th>Price</th>\n",
       "    </tr>\n",
       "  </thead>\n",
       "  <tbody>\n",
       "    <tr>\n",
       "      <th>0</th>\n",
       "      <td>1</td>\n",
       "      <td>12</td>\n",
       "      <td>2383</td>\n",
       "      <td>33</td>\n",
       "      <td>55</td>\n",
       "      <td>1</td>\n",
       "      <td>60</td>\n",
       "      <td>300</td>\n",
       "      <td>0</td>\n",
       "      <td>3</td>\n",
       "      <td>...</td>\n",
       "      <td>1</td>\n",
       "      <td>4</td>\n",
       "      <td>1</td>\n",
       "      <td>0</td>\n",
       "      <td>0</td>\n",
       "      <td>0</td>\n",
       "      <td>0</td>\n",
       "      <td>0</td>\n",
       "      <td>52.73</td>\n",
       "      <td>126556</td>\n",
       "    </tr>\n",
       "    <tr>\n",
       "      <th>1</th>\n",
       "      <td>35</td>\n",
       "      <td>9</td>\n",
       "      <td>847</td>\n",
       "      <td>12</td>\n",
       "      <td>56</td>\n",
       "      <td>0</td>\n",
       "      <td>0</td>\n",
       "      <td>0</td>\n",
       "      <td>68</td>\n",
       "      <td>10</td>\n",
       "      <td>...</td>\n",
       "      <td>0</td>\n",
       "      <td>3</td>\n",
       "      <td>0</td>\n",
       "      <td>0</td>\n",
       "      <td>0</td>\n",
       "      <td>0</td>\n",
       "      <td>0</td>\n",
       "      <td>0</td>\n",
       "      <td>21.01</td>\n",
       "      <td>18393</td>\n",
       "    </tr>\n",
       "    <tr>\n",
       "      <th>2</th>\n",
       "      <td>35</td>\n",
       "      <td>9</td>\n",
       "      <td>317</td>\n",
       "      <td>4</td>\n",
       "      <td>39</td>\n",
       "      <td>0</td>\n",
       "      <td>0</td>\n",
       "      <td>0</td>\n",
       "      <td>13</td>\n",
       "      <td>6</td>\n",
       "      <td>...</td>\n",
       "      <td>0</td>\n",
       "      <td>3</td>\n",
       "      <td>0</td>\n",
       "      <td>0</td>\n",
       "      <td>0</td>\n",
       "      <td>0</td>\n",
       "      <td>0</td>\n",
       "      <td>0</td>\n",
       "      <td>19.73</td>\n",
       "      <td>6853</td>\n",
       "    </tr>\n",
       "    <tr>\n",
       "      <th>3</th>\n",
       "      <td>53</td>\n",
       "      <td>22</td>\n",
       "      <td>1011</td>\n",
       "      <td>14</td>\n",
       "      <td>42</td>\n",
       "      <td>0</td>\n",
       "      <td>0</td>\n",
       "      <td>0</td>\n",
       "      <td>90</td>\n",
       "      <td>7</td>\n",
       "      <td>...</td>\n",
       "      <td>0</td>\n",
       "      <td>3</td>\n",
       "      <td>0</td>\n",
       "      <td>0</td>\n",
       "      <td>0</td>\n",
       "      <td>0</td>\n",
       "      <td>0</td>\n",
       "      <td>0</td>\n",
       "      <td>26.33</td>\n",
       "      <td>27215</td>\n",
       "    </tr>\n",
       "    <tr>\n",
       "      <th>4</th>\n",
       "      <td>53</td>\n",
       "      <td>22</td>\n",
       "      <td>771</td>\n",
       "      <td>11</td>\n",
       "      <td>23</td>\n",
       "      <td>0</td>\n",
       "      <td>0</td>\n",
       "      <td>0</td>\n",
       "      <td>60</td>\n",
       "      <td>5</td>\n",
       "      <td>...</td>\n",
       "      <td>0</td>\n",
       "      <td>3</td>\n",
       "      <td>0</td>\n",
       "      <td>0</td>\n",
       "      <td>0</td>\n",
       "      <td>0</td>\n",
       "      <td>0</td>\n",
       "      <td>0</td>\n",
       "      <td>25.55</td>\n",
       "      <td>20300</td>\n",
       "    </tr>\n",
       "  </tbody>\n",
       "</table>\n",
       "<p>5 rows × 24 columns</p>\n",
       "</div>"
      ],
      "text/plain": [
       "   Cargo ID  Cargo Weight  Transport Distance  Hour  Minutes  Ferry?  \\\n",
       "0         1            12                2383    33       55       1   \n",
       "1        35             9                 847    12       56       0   \n",
       "2        35             9                 317     4       39       0   \n",
       "3        53            22                1011    14       42       0   \n",
       "4        53            22                 771    11       23       0   \n",
       "\n",
       "   Ferry Length  Ferry Cost  Origin City ID  Origin Country  ...  \\\n",
       "0            60         300               0               3  ...   \n",
       "1             0           0              68              10  ...   \n",
       "2             0           0              13               6  ...   \n",
       "3             0           0              90               7  ...   \n",
       "4             0           0              60               5  ...   \n",
       "\n",
       "   Transport Type  Trailer Type  High Value Cargo  Heavy Cargo  Fragile Cargo  \\\n",
       "0               1             4                 1            0              0   \n",
       "1               0             3                 0            0              0   \n",
       "2               0             3                 0            0              0   \n",
       "3               0             3                 0            0              0   \n",
       "4               0             3                 0            0              0   \n",
       "\n",
       "   ADR Cargo  ADR Class & Type  Special Transport  Price Per KM   Price  \n",
       "0          0                 0                  0         52.73  126556  \n",
       "1          0                 0                  0         21.01   18393  \n",
       "2          0                 0                  0         19.73    6853  \n",
       "3          0                 0                  0         26.33   27215  \n",
       "4          0                 0                  0         25.55   20300  \n",
       "\n",
       "[5 rows x 24 columns]"
      ]
     },
     "execution_count": 3,
     "metadata": {},
     "output_type": "execute_result"
    }
   ],
   "source": [
    "print(data.shape)\n",
    "data.head()"
   ]
  },
  {
   "cell_type": "code",
   "execution_count": 4,
   "id": "f9089063",
   "metadata": {},
   "outputs": [],
   "source": [
    "from sklearn.tree import DecisionTreeClassifier\n",
    "from sklearn.ensemble import RandomForestClassifier\n",
    "from sklearn.metrics import mean_squared_error, accuracy_score, confusion_matrix"
   ]
  },
  {
   "cell_type": "code",
   "execution_count": 5,
   "id": "8a183ae4",
   "metadata": {},
   "outputs": [
    {
     "data": {
      "text/plain": [
       "Index(['Cargo ID', 'Cargo Weight', 'Transport Distance', 'Hour', 'Minutes',\n",
       "       'Ferry?', 'Ferry Length', 'Ferry Cost', 'Origin City ID',\n",
       "       'Origin Country', 'Origin Company', 'Destination City ID',\n",
       "       'Destination Country', 'Destiantion Company', 'Transport Type',\n",
       "       'Trailer Type', 'High Value Cargo', 'Heavy Cargo', 'Fragile Cargo',\n",
       "       'ADR Cargo', 'ADR Class & Type', 'Special Transport', 'Price Per KM',\n",
       "       'Price'],\n",
       "      dtype='object')"
      ]
     },
     "execution_count": 5,
     "metadata": {},
     "output_type": "execute_result"
    }
   ],
   "source": [
    "data.columns"
   ]
  },
  {
   "cell_type": "code",
   "execution_count": 6,
   "id": "09ac3ed2",
   "metadata": {},
   "outputs": [],
   "source": [
    "cols=['Cargo ID', 'Cargo Weight', 'Transport Distance', 'Hour', 'Minutes',\n",
    "       'Ferry?', 'Ferry Length', 'Ferry Cost', 'Origin City ID',\n",
    "       'Origin Country', 'Origin Company', 'Destination City ID',\n",
    "       'Destination Country', 'Destiantion Company','Transport Type',\n",
    "        'High Value Cargo', 'Heavy Cargo', 'Fragile Cargo',\n",
    "       'ADR Cargo', 'ADR Class & Type', 'Special Transport', 'Price Per KM',\n",
    "       'Price']"
   ]
  },
  {
   "cell_type": "code",
   "execution_count": 7,
   "id": "85066b94",
   "metadata": {},
   "outputs": [],
   "source": [
    "train=data[['Cargo ID', 'Cargo Weight', 'Transport Distance', 'Hour', 'Minutes',\n",
    "       'Ferry?', 'Ferry Length', 'Ferry Cost', 'Origin City ID',\n",
    "       'Origin Country', 'Origin Company', 'Destination City ID',\n",
    "       'Destination Country', 'Destiantion Company', 'Transport Type',\n",
    "        'High Value Cargo', 'Heavy Cargo', 'Fragile Cargo',\n",
    "       'ADR Cargo', 'ADR Class & Type', 'Special Transport', 'Price Per KM',\n",
    "       'Price']]"
   ]
  },
  {
   "cell_type": "code",
   "execution_count": 8,
   "id": "ed2bac46",
   "metadata": {},
   "outputs": [],
   "source": [
    "test=np.array(data['Trailer Type'])"
   ]
  },
  {
   "cell_type": "code",
   "execution_count": 9,
   "id": "79e55884",
   "metadata": {},
   "outputs": [],
   "source": [
    "test=test.reshape(-1,1)"
   ]
  },
  {
   "cell_type": "markdown",
   "id": "16e14372",
   "metadata": {},
   "source": [
    "### Fitting Normal Decision Tree"
   ]
  },
  {
   "cell_type": "code",
   "execution_count": 13,
   "id": "11545b68",
   "metadata": {},
   "outputs": [
    {
     "name": "stdout",
     "output_type": "stream",
     "text": [
      "[0.14373981 0.10410142 0.02755776 0.00696762 0.03780725 0.00356552\n",
      " 0.00558598 0.         0.03958719 0.01879134 0.04110599 0.0206133\n",
      " 0.02539446 0.00936054 0.01027981 0.17645122 0.         0.01891768\n",
      " 0.         0.10799605 0.         0.16785012 0.03432691]\n",
      "1.0\n"
     ]
    }
   ],
   "source": [
    "Dtree=DecisionTreeClassifier()\n",
    "Dtree=Dtree.fit(train,test)\n",
    "\n",
    "print(Dtree.feature_importances_)\n",
    "print(Dtree.score(train,test))"
   ]
  },
  {
   "cell_type": "code",
   "execution_count": 17,
   "id": "61e63540",
   "metadata": {},
   "outputs": [],
   "source": [
    "# generating our tree visualization\n",
    "from sklearn import tree\n",
    "with open(\"C:/Users/HP/Desktop/Data_Sets/ETS2/Dtree.txt\",'w') as f:\n",
    "    f=tree.export_graphviz(Dtree,out_file=f,feature_names=cols)"
   ]
  },
  {
   "cell_type": "code",
   "execution_count": 19,
   "id": "ee649722",
   "metadata": {},
   "outputs": [
    {
     "name": "stdout",
     "output_type": "stream",
     "text": [
      "\n",
      " Accuracy score: 1.0\n"
     ]
    },
    {
     "data": {
      "image/png": "[encoded data removed]",
      "text/plain": [
       "<Figure size 432x288 with 2 Axes>"
      ]
     },
     "metadata": {
      "needs_background": "light"
     },
     "output_type": "display_data"
    }
   ],
   "source": [
    "# Making tree prediction\n",
    "Dtree_predict=Dtree.predict(train)\n",
    "\n",
    "# comparing the results\n",
    "\n",
    "acc=accuracy_score(test,Dtree_predict)\n",
    "print('\\n Accuracy score:',acc)\n",
    "\n",
    "# creating confusion matrix\n",
    "\n",
    "conf=confusion_matrix(test,Dtree_predict)\n",
    "cmap=sns.cubehelix_palette(50,hue=0.05,rot=0,light=0.9,dark=0,as_cmap=True)\n",
    "sns.heatmap(conf,cmap=cmap,xticklabels=['0','1','2','3','4','5','6','7','8'],yticklabels=['0','1','2','3','4','5','6','7','8'],\n",
    "            annot=True,square=True,fmt='d')\n",
    "plt.show()"
   ]
  },
  {
   "cell_type": "code",
   "execution_count": 20,
   "id": "45a5c719",
   "metadata": {},
   "outputs": [],
   "source": [
    "from sklearn.metrics import classification_report"
   ]
  },
  {
   "cell_type": "code",
   "execution_count": 21,
   "id": "44a1c459",
   "metadata": {},
   "outputs": [
    {
     "name": "stdout",
     "output_type": "stream",
     "text": [
      "              precision    recall  f1-score   support\n",
      "\n",
      "           0       1.00      1.00      1.00         9\n",
      "           1       1.00      1.00      1.00        40\n",
      "           2       1.00      1.00      1.00        56\n",
      "           3       1.00      1.00      1.00       278\n",
      "           4       1.00      1.00      1.00        58\n",
      "           5       1.00      1.00      1.00       148\n",
      "           6       1.00      1.00      1.00        55\n",
      "           7       1.00      1.00      1.00        13\n",
      "           8       1.00      1.00      1.00        63\n",
      "\n",
      "    accuracy                           1.00       720\n",
      "   macro avg       1.00      1.00      1.00       720\n",
      "weighted avg       1.00      1.00      1.00       720\n",
      "\n"
     ]
    }
   ],
   "source": [
    "print(classification_report(test,Dtree_predict))"
   ]
  },
  {
   "cell_type": "markdown",
   "id": "02a3290d",
   "metadata": {},
   "source": [
    "### Decision Tree with some restriction"
   ]
  },
  {
   "cell_type": "code",
   "execution_count": 10,
   "id": "1b156620",
   "metadata": {},
   "outputs": [
    {
     "name": "stdout",
     "output_type": "stream",
     "text": [
      "[0.1185591  0.0813087  0.01678222 0.         0.00672068 0.\n",
      " 0.         0.         0.         0.         0.         0.\n",
      " 0.00552153 0.001256   0.         0.32714178 0.         0.03257846\n",
      " 0.         0.20022543 0.         0.2044371  0.00546901]\n",
      "0.7569444444444444\n",
      "\n",
      " Accuracy score: 0.7569444444444444\n"
     ]
    },
    {
     "data": {
      "image/png": "[encoded data removed]",
      "text/plain": [
       "<Figure size 432x288 with 2 Axes>"
      ]
     },
     "metadata": {
      "needs_background": "light"
     },
     "output_type": "display_data"
    }
   ],
   "source": [
    "## min_sample_split=mss\n",
    "\n",
    "DT=DecisionTreeClassifier(criterion=\"gini\",splitter=\"best\",max_depth=6,min_samples_split=10,min_samples_leaf=1, \n",
    "                            min_weight_fraction_leaf=0.0)\n",
    "DT=DT.fit(train,test)\n",
    "\n",
    "print(DT.feature_importances_)\n",
    "print(DT.score(train,test))\n",
    "\n",
    "# generating our tree visualization\n",
    "from sklearn import tree\n",
    "with open(\"C:/Users/HP/Desktop/Data_Sets/ETS2/DT_mss10.txt\",'w') as f:\n",
    "    f=tree.export_graphviz(DT,out_file=f,feature_names=cols)\n",
    "\n",
    "    \n",
    "# Making tree prediction\n",
    "DT_predict=DT.predict(train)\n",
    "\n",
    "# comparing the results\n",
    "\n",
    "acc=accuracy_score(test,DT_predict)\n",
    "print('\\n Accuracy score:',acc)\n",
    "\n",
    "# creating confusion matrix\n",
    "\n",
    "conf=confusion_matrix(test,DT_predict)\n",
    "cmap=sns.cubehelix_palette(50,hue=0.05,rot=0,light=0.9,dark=0,as_cmap=True)\n",
    "sns.heatmap(conf,cmap=cmap,xticklabels=['0','1','2','3','4','5','6','7','8'],yticklabels=['0','1','2','3','4','5','6','7','8'],\n",
    "            annot=True,square=True,fmt='d')\n",
    "plt.show()"
   ]
  },
  {
   "cell_type": "code",
   "execution_count": 11,
   "id": "2bde54f2",
   "metadata": {},
   "outputs": [
    {
     "name": "stdout",
     "output_type": "stream",
     "text": [
      "[0.0843345  0.11420221 0.00589965 0.         0.0050959  0.\n",
      " 0.         0.         0.00574634 0.00413754 0.03205241 0.00400286\n",
      " 0.00458474 0.         0.00887986 0.2843828  0.         0.02917731\n",
      " 0.0421809  0.13490024 0.         0.24042276 0.        ]\n",
      "0.7555555555555555\n",
      "\n",
      " Accuracy score: 0.7555555555555555\n"
     ]
    },
    {
     "data": {
      "image/png": "[encoded data removed]",
      "text/plain": [
       "<Figure size 432x288 with 2 Axes>"
      ]
     },
     "metadata": {
      "needs_background": "light"
     },
     "output_type": "display_data"
    }
   ],
   "source": [
    "# Entropy with mss10\n",
    "\n",
    "DT=DecisionTreeClassifier(criterion=\"entropy\",splitter=\"best\",max_depth=6,min_samples_split=10,min_samples_leaf=1, \n",
    "                            min_weight_fraction_leaf=0.0)\n",
    "DT=DT.fit(train,test)\n",
    "\n",
    "print(DT.feature_importances_)\n",
    "print(DT.score(train,test))\n",
    "\n",
    "# generating our tree visualization\n",
    "from sklearn import tree\n",
    "with open(\"C:/Users/HP/Desktop/Data_Sets/ETS2/DT_ENT_mss10.txt\",'w') as f:\n",
    "    f=tree.export_graphviz(DT,out_file=f,feature_names=cols)\n",
    "\n",
    "    \n",
    "# Making tree prediction\n",
    "DT_predict=DT.predict(train)\n",
    "\n",
    "# comparing the results\n",
    "\n",
    "acc=accuracy_score(test,DT_predict)\n",
    "print('\\n Accuracy score:',acc)\n",
    "\n",
    "# creating confusion matrix\n",
    "\n",
    "conf=confusion_matrix(test,DT_predict)\n",
    "cmap=sns.cubehelix_palette(50,hue=0.05,rot=0,light=0.9,dark=0,as_cmap=True)\n",
    "sns.heatmap(conf,cmap=cmap,xticklabels=['0','1','2','3','4','5','6','7','8'],yticklabels=['0','1','2','3','4','5','6','7','8'],\n",
    "            annot=True,square=True,fmt='d')\n",
    "plt.show()"
   ]
  },
  {
   "cell_type": "code",
   "execution_count": 13,
   "id": "77f12393",
   "metadata": {},
   "outputs": [
    {
     "name": "stdout",
     "output_type": "stream",
     "text": [
      "              precision    recall  f1-score   support\n",
      "\n",
      "           0       0.00      0.00      0.00         9\n",
      "           1       1.00      0.80      0.89        40\n",
      "           2       0.91      0.38      0.53        56\n",
      "           3       0.65      0.99      0.79       278\n",
      "           4       0.68      0.36      0.47        58\n",
      "           5       0.97      0.78      0.87       148\n",
      "           6       0.83      0.09      0.16        55\n",
      "           7       0.54      1.00      0.70        13\n",
      "           8       0.98      0.97      0.98        63\n",
      "\n",
      "    accuracy                           0.76       720\n",
      "   macro avg       0.73      0.60      0.60       720\n",
      "weighted avg       0.79      0.76      0.72       720\n",
      "\n"
     ]
    },
    {
     "name": "stderr",
     "output_type": "stream",
     "text": [
      "C:\\Users\\HP\\NewAnaconda\\anaconda3\\lib\\site-packages\\sklearn\\metrics\\_classification.py:1318: UndefinedMetricWarning: Precision and F-score are ill-defined and being set to 0.0 in labels with no predicted samples. Use `zero_division` parameter to control this behavior.\n",
      "  _warn_prf(average, modifier, msg_start, len(result))\n",
      "C:\\Users\\HP\\NewAnaconda\\anaconda3\\lib\\site-packages\\sklearn\\metrics\\_classification.py:1318: UndefinedMetricWarning: Precision and F-score are ill-defined and being set to 0.0 in labels with no predicted samples. Use `zero_division` parameter to control this behavior.\n",
      "  _warn_prf(average, modifier, msg_start, len(result))\n",
      "C:\\Users\\HP\\NewAnaconda\\anaconda3\\lib\\site-packages\\sklearn\\metrics\\_classification.py:1318: UndefinedMetricWarning: Precision and F-score are ill-defined and being set to 0.0 in labels with no predicted samples. Use `zero_division` parameter to control this behavior.\n",
      "  _warn_prf(average, modifier, msg_start, len(result))\n"
     ]
    }
   ],
   "source": [
    "from sklearn.metrics import classification_report\n",
    "\n",
    "print(classification_report(test,DT_predict))"
   ]
  },
  {
   "cell_type": "code",
   "execution_count": 14,
   "id": "b439a95a",
   "metadata": {},
   "outputs": [
    {
     "name": "stdout",
     "output_type": "stream",
     "text": [
      "[0.16352462 0.09839843 0.01375884 0.         0.01120049 0.\n",
      " 0.         0.         0.01017659 0.00170617 0.02176832 0.01051332\n",
      " 0.01010329 0.00102972 0.         0.26820583 0.         0.02670932\n",
      " 0.         0.16415398 0.         0.19597351 0.00277757]\n",
      "0.8097222222222222\n",
      "\n",
      " Accuracy score: 0.8097222222222222\n"
     ]
    },
    {
     "data": {
      "image/png": "[encoded data removed]",
      "text/plain": [
       "<Figure size 432x288 with 2 Axes>"
      ]
     },
     "metadata": {
      "needs_background": "light"
     },
     "output_type": "display_data"
    }
   ],
   "source": [
    "# gini mss10 maxdep10\n",
    "\n",
    "DT=DecisionTreeClassifier(criterion=\"gini\",splitter=\"best\",max_depth=10,min_samples_split=10,min_samples_leaf=1, \n",
    "                            min_weight_fraction_leaf=0.0)\n",
    "DT=DT.fit(train,test)\n",
    "\n",
    "print(DT.feature_importances_)\n",
    "print(DT.score(train,test))\n",
    "\n",
    "# generating our tree visualization\n",
    "from sklearn import tree\n",
    "with open(\"C:/Users/HP/Desktop/Data_Sets/ETS2/DT_GINI_mss10_md10.txt\",'w') as f:\n",
    "    f=tree.export_graphviz(DT,out_file=f,feature_names=cols)\n",
    "\n",
    "    \n",
    "# Making tree prediction\n",
    "DT_predict=DT.predict(train)\n",
    "\n",
    "# comparing the results\n",
    "\n",
    "acc=accuracy_score(test,DT_predict)\n",
    "print('\\n Accuracy score:',acc)\n",
    "\n",
    "# creating confusion matrix\n",
    "\n",
    "conf=confusion_matrix(test,DT_predict)\n",
    "cmap=sns.cubehelix_palette(50,hue=0.05,rot=0,light=0.9,dark=0,as_cmap=True)\n",
    "sns.heatmap(conf,cmap=cmap,xticklabels=['0','1','2','3','4','5','6','7','8'],yticklabels=['0','1','2','3','4','5','6','7','8'],\n",
    "            annot=True,square=True,fmt='d')\n",
    "plt.show()"
   ]
  },
  {
   "cell_type": "code",
   "execution_count": 15,
   "id": "934f1380",
   "metadata": {},
   "outputs": [
    {
     "name": "stderr",
     "output_type": "stream",
     "text": [
      "C:\\Users\\HP\\NewAnaconda\\anaconda3\\lib\\site-packages\\sklearn\\base.py:450: UserWarning: X does not have valid feature names, but DecisionTreeClassifier was fitted with feature names\n",
      "  warnings.warn(\n"
     ]
    },
    {
     "data": {
      "text/plain": [
       "array([4], dtype=int64)"
      ]
     },
     "execution_count": 15,
     "metadata": {},
     "output_type": "execute_result"
    }
   ],
   "source": [
    "DT.predict([[1,12,2383,33,55,1,60,300,0,3,19,94,0,20,1,1,0,0,0,0,0,52.73,126556]])"
   ]
  },
  {
   "cell_type": "code",
   "execution_count": 16,
   "id": "3ea76018",
   "metadata": {},
   "outputs": [
    {
     "name": "stderr",
     "output_type": "stream",
     "text": [
      "C:\\Users\\HP\\NewAnaconda\\anaconda3\\lib\\site-packages\\sklearn\\base.py:450: UserWarning: X does not have valid feature names, but DecisionTreeClassifier was fitted with feature names\n",
      "  warnings.warn(\n"
     ]
    },
    {
     "data": {
      "text/plain": [
       "array([3], dtype=int64)"
      ]
     },
     "execution_count": 16,
     "metadata": {},
     "output_type": "execute_result"
    }
   ],
   "source": [
    "DT.predict([[224,13,135,2,1,0,0,0,94,0,7,8,11,22,1,0,0,0,0,0,0,27.45,4306]])"
   ]
  },
  {
   "cell_type": "code",
   "execution_count": 17,
   "id": "e4460082",
   "metadata": {},
   "outputs": [
    {
     "name": "stderr",
     "output_type": "stream",
     "text": [
      "C:\\Users\\HP\\AppData\\Local\\Temp/ipykernel_3532/3266877208.py:3: DataConversionWarning: A column-vector y was passed when a 1d array was expected. Please change the shape of y to (n_samples,), for example using ravel().\n",
      "  forest=forest.fit(train,test)\n"
     ]
    },
    {
     "name": "stdout",
     "output_type": "stream",
     "text": [
      "Score: 1.0\n",
      "\n",
      " Accuacy score: 1.0\n"
     ]
    },
    {
     "data": {
      "image/png": "[encoded data removed]",
      "text/plain": [
       "<Figure size 432x288 with 2 Axes>"
      ]
     },
     "metadata": {
      "needs_background": "light"
     },
     "output_type": "display_data"
    }
   ],
   "source": [
    "forest=RandomForestClassifier()\n",
    "\n",
    "forest=forest.fit(train,test)\n",
    "print(\"Score:\",forest.score(train,test))\n",
    "\n",
    "# Making forest prediction\n",
    "\n",
    "forest_predict=forest.predict(train)\n",
    "\n",
    "# comparing the results\n",
    "\n",
    "acc=accuracy_score(test,forest_predict)\n",
    "print('\\n Accuacy score:',acc)\n",
    "\n",
    "# creating confusion matrix\n",
    "\n",
    "conf=confusion_matrix(test,forest_predict)\n",
    "cmap=sns.cubehelix_palette(50,hue=0.05,rot=0,light=0.9,dark=0,as_cmap=True)\n",
    "sns.heatmap(conf,cmap=cmap,xticklabels=['0','1','2','3','4','5','6','7','8'],yticklabels=['0','1','2','3','4','5','6','7','8'],\n",
    "            annot=True,square=True,fmt='d')\n",
    "plt.show()"
   ]
  },
  {
   "cell_type": "code",
   "execution_count": 23,
   "id": "a4f2f55a",
   "metadata": {},
   "outputs": [
    {
     "name": "stderr",
     "output_type": "stream",
     "text": [
      "C:\\Users\\HP\\AppData\\Local\\Temp/ipykernel_3532/2939966685.py:4: DataConversionWarning: A column-vector y was passed when a 1d array was expected. Please change the shape of y to (n_samples,), for example using ravel().\n",
      "  forest=forest.fit(train,test)\n"
     ]
    },
    {
     "name": "stdout",
     "output_type": "stream",
     "text": [
      "Score: 0.9444444444444444\n",
      "\n",
      " Accuacy score: 0.9444444444444444\n"
     ]
    },
    {
     "data": {
      "image/png": "[encoded data removed]",
      "text/plain": [
       "<Figure size 432x288 with 2 Axes>"
      ]
     },
     "metadata": {
      "needs_background": "light"
     },
     "output_type": "display_data"
    }
   ],
   "source": [
    "forest=RandomForestClassifier(max_depth=15,min_samples_split=5,n_estimators=50,random_state=1)\n",
    "\n",
    "\n",
    "forest=forest.fit(train,test)\n",
    "print(\"Score:\",forest.score(train,test))\n",
    "\n",
    "# Making forest prediction\n",
    "\n",
    "forest_predict=forest.predict(train)\n",
    "\n",
    "# comparing the results\n",
    "\n",
    "acc=accuracy_score(test,forest_predict)\n",
    "print('\\n Accuacy score:',acc)\n",
    "\n",
    "# creating confusion matrix\n",
    "\n",
    "conf=confusion_matrix(test,forest_predict)\n",
    "cmap=sns.cubehelix_palette(50,hue=0.05,rot=0,light=0.9,dark=0,as_cmap=True)\n",
    "sns.heatmap(conf,cmap=cmap,xticklabels=['0','1','2','3','4','5','6','7','8'],yticklabels=['0','1','2','3','4','5','6','7','8'],\n",
    "            annot=True,square=True,fmt='d')\n",
    "plt.show()"
   ]
  }
 ],
 "metadata": {
  "kernelspec": {
   "display_name": "Python 3 (ipykernel)",
   "language": "python",
   "name": "python3"
  },
  "language_info": {
   "codemirror_mode": {
    "name": "ipython",
    "version": 3
   },
   "file_extension": ".py",
   "mimetype": "text/x-python",
   "name": "python",
   "nbconvert_exporter": "python",
   "pygments_lexer": "ipython3",
   "version": "3.8.5"
  }
 },
 "nbformat": 4,
 "nbformat_minor": 5
}
